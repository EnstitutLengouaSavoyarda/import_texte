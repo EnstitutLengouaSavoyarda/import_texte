{
 "cells": [
  {
   "cell_type": "markdown",
   "id": "f92fcfed",
   "metadata": {},
   "source": [
    "# Notebook import pdf : selective import of texts"
   ]
  },
  {
   "cell_type": "code",
   "execution_count": 8,
   "id": "75a71c43",
   "metadata": {},
   "outputs": [],
   "source": [
    "# Import usefull packages\n",
    "from pypdf import PdfReader\n",
    "import csv"
   ]
  },
  {
   "cell_type": "code",
   "execution_count": null,
   "id": "cee9337b",
   "metadata": {},
   "outputs": [],
   "source": [
    "# Add relative filepath for pdf file to extract\n",
    "file = 'xxxx.pdf'\n"
   ]
  },
  {
   "cell_type": "code",
   "execution_count": 3,
   "id": "cb18ef67",
   "metadata": {},
   "outputs": [
    {
     "name": "stderr",
     "output_type": "stream",
     "text": [
      "Ignoring wrong pointing object 24115 0 (offset 0)\n"
     ]
    }
   ],
   "source": [
    "# Initialize reader object\n",
    "reader = PdfReader(file)"
   ]
  },
  {
   "cell_type": "code",
   "execution_count": 4,
   "id": "ebf6047f",
   "metadata": {},
   "outputs": [
    {
     "data": {
      "text/plain": [
       "687"
      ]
     },
     "execution_count": 4,
     "metadata": {},
     "output_type": "execute_result"
    }
   ],
   "source": [
    "# Display number of pages\n",
    "nb_pages = len(reader.pages )\n",
    "nb_pages"
   ]
  },
  {
   "cell_type": "code",
   "execution_count": 186,
   "id": "33f103bf",
   "metadata": {},
   "outputs": [],
   "source": [
    "# Display metadata of document\n",
    "meta = reader.metadata\n",
    "# meta"
   ]
  },
  {
   "cell_type": "code",
   "execution_count": 177,
   "id": "2df9d2d4",
   "metadata": {},
   "outputs": [],
   "source": [
    "# Read specific content/page\n",
    "page = reader.pages[327]"
   ]
  },
  {
   "cell_type": "code",
   "execution_count": 183,
   "id": "2981d85e",
   "metadata": {},
   "outputs": [],
   "source": [
    "# Extract content from page\n",
    "text1 = page.extract_text()\n",
    "# text1"
   ]
  },
  {
   "cell_type": "code",
   "execution_count": null,
   "id": "80b33e68",
   "metadata": {},
   "outputs": [],
   "source": [
    "# Extract content from page 2\n",
    "page2 = reader.pages[328]\n",
    "text2 = page2.extract_text()\n",
    "# text2\n"
   ]
  },
  {
   "cell_type": "code",
   "execution_count": 185,
   "id": "d6e208f6",
   "metadata": {},
   "outputs": [],
   "source": [
    "# In case of several pages, append pages for full_text:\n",
    "full_text = text1 + text2\n",
    "# full_text"
   ]
  },
  {
   "cell_type": "code",
   "execution_count": 180,
   "id": "ea53167e",
   "metadata": {},
   "outputs": [],
   "source": [
    "# Format to utf-8\n",
    "utf8_text = text1.encode('utf-8').decode('utf-8')\n",
    "\n",
    "title = \"Los Alobrojos\"\n",
    "utf8_title = title.encode('utf-8').decode('utf-8')"
   ]
  },
  {
   "cell_type": "code",
   "execution_count": null,
   "id": "1d07062c",
   "metadata": {},
   "outputs": [],
   "source": [
    "# Data to be addded\n",
    "new_data = {\"ident\":20, \"texte_savoyard\": utf8_text,\n",
    "             \"auteur\": \" \",\n",
    "             \"origine_patois\": \"Haute-Savoie\",\n",
    "             \"localisation\": \" \",\n",
    "             \"commentaires\": \" \",\n",
    "             \"titre_savoyard\": utf8_title,\n",
    "             \"titre_francais\": \"Les Allobroges\"}"
   ]
  },
  {
   "cell_type": "code",
   "execution_count": 182,
   "id": "ed7c26f6",
   "metadata": {},
   "outputs": [],
   "source": [
    "# Open the CSV file in append mode\n",
    "with open('texte.csv', 'a', encoding='utf-8', newline='') as file:\n",
    "    fieldnames = [\"ident\", \"texte_savoyard\", \"texte_francais\", \"auteur\", \"commentaires\", \"contexte\", \"date\", \"resume\", \"origine_patois\", \"localisation\", \"titre_savoyard\", \"titre_francais\", \"phonologie\", \"phonetique\"]\n",
    "    writer = csv.DictWriter(file, fieldnames=fieldnames)\n",
    "    \n",
    "    # Write the header only if the file is empty\n",
    "    if file.tell() == 0:\n",
    "        writer.writeheader()\n",
    "    \n",
    "    writer.writerow(new_data)\n"
   ]
  }
 ],
 "metadata": {
  "kernelspec": {
   "display_name": ".venv",
   "language": "python",
   "name": "python3"
  },
  "language_info": {
   "codemirror_mode": {
    "name": "ipython",
    "version": 3
   },
   "file_extension": ".py",
   "mimetype": "text/x-python",
   "name": "python",
   "nbconvert_exporter": "python",
   "pygments_lexer": "ipython3",
   "version": "3.13.3"
  }
 },
 "nbformat": 4,
 "nbformat_minor": 5
}
