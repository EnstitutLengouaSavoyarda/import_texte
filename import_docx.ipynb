{
 "cells": [
  {
   "cell_type": "markdown",
   "id": "738e5b41",
   "metadata": {},
   "source": [
    "# Notebook import docx"
   ]
  },
  {
   "cell_type": "code",
   "execution_count": null,
   "id": "e21b68ea",
   "metadata": {},
   "outputs": [],
   "source": [
    "# Import usefull packages\n",
    "from docx import Document\n",
    "import csv"
   ]
  },
  {
   "cell_type": "code",
   "execution_count": null,
   "id": "9a57e309",
   "metadata": {},
   "outputs": [],
   "source": [
    "# Add relative filepath for docx file to extract\n",
    "file = 'xxxx.docx'\n"
   ]
  },
  {
   "cell_type": "code",
   "execution_count": null,
   "id": "0b856f85",
   "metadata": {},
   "outputs": [],
   "source": [
    "# Read docx file\n",
    "doc = Document(file)"
   ]
  },
  {
   "cell_type": "code",
   "execution_count": null,
   "id": "e0882006",
   "metadata": {},
   "outputs": [],
   "source": [
    "# Access and print content\n",
    "for paragraph in doc.paragraphs:\n",
    "    print(paragraph.text)"
   ]
  },
  {
   "cell_type": "code",
   "execution_count": null,
   "id": "99cbfb12",
   "metadata": {},
   "outputs": [],
   "source": [
    "# Save full text\n",
    "full_text = \" \"\n",
    "for paragraph in doc.paragraphs:\n",
    "    full_text += paragraph.text"
   ]
  },
  {
   "cell_type": "code",
   "execution_count": null,
   "id": "c918152f",
   "metadata": {},
   "outputs": [],
   "source": [
    "full_text"
   ]
  },
  {
   "cell_type": "code",
   "execution_count": null,
   "id": "16300c14",
   "metadata": {},
   "outputs": [],
   "source": [
    "# Format to utf-8\n",
    "utf8_text = full_text.encode('utf-8').decode('utf-8')\n"
   ]
  },
  {
   "cell_type": "code",
   "execution_count": null,
   "id": "881b2f45",
   "metadata": {},
   "outputs": [],
   "source": [
    "# Data to be addded\n",
    "new_data = {\"ident\":21, \"texte_savoyard\": utf8_text,\n",
    "             \"auteur\": \" \",\n",
    "             \"origine_patois\": \"Haute-Savoie\",\n",
    "             \"localisation\": \" \",\n",
    "             \"commentaires\": \" \",\n",
    "             \"titre_savoyard\": \" \",\n",
    "             \"titre_francais\": \" \"}"
   ]
  },
  {
   "cell_type": "code",
   "execution_count": null,
   "id": "beee27fa",
   "metadata": {},
   "outputs": [],
   "source": [
    "# Open the CSV file in append mode\n",
    "with open('texte.csv', 'a', encoding='utf-8', newline='') as file:\n",
    "    fieldnames = [\"ident\", \"texte_savoyard\", \"texte_francais\", \"auteur\", \"commentaires\", \"contexte\", \"date\", \"resume\", \"origine_patois\", \"localisation\", \"titre_savoyard\", \"titre_francais\", \"phonologie\", \"phonetique\", \"type_texte\", \"registre_langue\"]\n",
    "    writer = csv.DictWriter(file, fieldnames=fieldnames)\n",
    "    \n",
    "    writer.writerow(new_data)\n"
   ]
  }
 ],
 "metadata": {
  "kernelspec": {
   "display_name": ".venv",
   "language": "python",
   "name": "python3"
  },
  "language_info": {
   "codemirror_mode": {
    "name": "ipython",
    "version": 3
   },
   "file_extension": ".py",
   "mimetype": "text/x-python",
   "name": "python",
   "nbconvert_exporter": "python",
   "pygments_lexer": "ipython3",
   "version": "3.13.3"
  }
 },
 "nbformat": 4,
 "nbformat_minor": 5
}
